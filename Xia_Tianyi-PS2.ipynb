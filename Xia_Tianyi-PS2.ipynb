{
 "cells": [
  {
   "cell_type": "markdown",
   "metadata": {},
   "source": [
    "# Problem Set 2"
   ]
  },
  {
   "cell_type": "markdown",
   "metadata": {},
   "source": [
    "## Introduction to the assignment\n",
    "\n",
    "For this assignment, you will be using data from the [Progresa program](http://en.wikipedia.org/wiki/Oportunidades), a government social assistance program in Mexico. This program, as well as the details of its impact, are described in the paper \"[School subsidies for the poor: evaluating the Mexican Progresa poverty program](http://www.sciencedirect.com/science/article/pii/S0304387803001858)\", by Paul Shultz (available on bCourses). Please familiarize yourself with the PROGRESA program before beginning this problem set, so you have a rough sense of where the data come from and how they were generated. If you just proceed into the problem set without understanding Progresa or the data, it will be very difficult!\n",
    "\n",
    "The goal of this problem set is to implement some of the basic econometric techniques that you are learning in class to measure the impact of Progresa on secondary school enrollment rates. The timeline of the program was:\n",
    "\n",
    " * Baseline survey conducted in 1997\n",
    " * Intervention begins in 1998, \"Wave 1\" of surveys conducted in 1998\n",
    " * \"Wave 2\" of surveys conducted in 1999\n",
    " * Evaluation ends in 2000, at which point the control villages were treated. \n",
    " \n",
    "When you are ready, download the progresa_sample.csv data from bCourses. The data are actual data collected to evaluate the impact of the Progresa program.  In this file, each row corresponds to an observation taken for a given child for a given year. There are two years of data (1997 and 1998), and just under 40,000 children who are surveyed in each year. For each child-year observation, the following variables are collected:\n",
    "\n",
    "| Variable name | Description|\n",
    "|------|------|\n",
    "|year\t  |year in which data is collected\n",
    "|sex\t  |male = 1|\n",
    "|indig\t  |indigenous = 1|\n",
    "|dist_sec |nearest distance to a secondary school|\n",
    "|sc\t      |enrolled in school in year of survey|\n",
    "|grc      |grade enrolled|\n",
    "|fam_n    |family size|\n",
    "|min_dist |\tmin distance to an urban center|\n",
    "|dist_cap |\tmin distance to the capital|\n",
    "|poor     |\tpoor = 1|\n",
    "|progresa |treatment =1|\n",
    "|hohedu\t  |years of schooling of head of household|\n",
    "|hohwag\t  |monthly wages of head of household|\n",
    "|welfare_index|\twelfare index used to classify poor|\n",
    "|hohsex\t|gender of head of household (male=1)|\n",
    "|hohage\t|age of head of household|\n",
    "|age\t|years old|\n",
    "|folnum\t|individual id|\n",
    "|village|\tvillage id|\n",
    "|sc97\t|schooling in 1997|\n",
    "|grc97  |grade enrolled in 1997"
   ]
  },
  {
   "cell_type": "code",
   "execution_count": 1,
   "metadata": {},
   "outputs": [],
   "source": [
    "import pandas as pd\n",
    "import numpy as np\n",
    "import matplotlib.pyplot as plt"
   ]
  },
  {
   "cell_type": "markdown",
   "metadata": {},
   "source": [
    "---\n",
    "\n",
    "## Part 1: Descriptive analysis\n",
    "\n",
    "### 1.1\tSummary Statistics\n",
    "\n",
    "Present summary statistics (mean, median and standard deviation) for all of the demographic variables in the dataset (i.e., everything except year, folnum, village). Present these in a single table alphabetized by variable name. Do NOT simply expect the grader to scroll through your output!\n",
    "\n",
    "*Note:* For this and subsequent problems, you will need to be careful in how you deal with missing (NULL) values. You should not blindly drop rows and columns where any data field is missing.  For instance, in calculating the average `hohwag`, you should average the `hohwag` values from all households that report a value (even if the household does not have a recorded `age` value, for example). "
   ]
  },
  {
   "cell_type": "code",
   "execution_count": 2,
   "metadata": {},
   "outputs": [
    {
     "name": "stdout",
     "output_type": "stream",
     "text": [
      "   year  sex  indig  dist_sec   sc  grc  fam_n   min_dist   dist_cap   poor  \\\n",
      "0    97  0.0    0.0     4.473  1.0  7.0      7  21.168384  21.168384  pobre   \n",
      "1    98  0.0    0.0     4.473  1.0  8.0      7  21.168384  21.168384  pobre   \n",
      "2    97  1.0    0.0     4.473  1.0  6.0      7  21.168384  21.168384  pobre   \n",
      "\n",
      "   ... hohedu  hohwag  welfare_index  hohsex  hohage  age  village  folnum  \\\n",
      "0  ...      6     0.0          583.0     1.0    35.0   13      163       1   \n",
      "1  ...      6     0.0          583.0     1.0    35.0   14      163       1   \n",
      "2  ...      6     0.0          583.0     1.0    35.0   12      163       2   \n",
      "\n",
      "   grc97  sc97  \n",
      "0      7   1.0  \n",
      "1      7   1.0  \n",
      "2      6   1.0  \n",
      "\n",
      "[3 rows x 21 columns]\n",
      "unique values in 'poor': ['pobre' 'no pobre']\n",
      "unique values in 'progresa': ['0' 'basal']\n",
      "                     mean      median         std\n",
      "age             11.366460   11.000000    3.167744\n",
      "dist_cap       147.674452  132.001494   76.063134\n",
      "dist_sec         2.418910    2.279000    2.234109\n",
      "fam_n            7.215715    7.000000    2.352900\n",
      "grc              3.963537    4.000000    2.499063\n",
      "grc97            3.705372    4.000000    2.572387\n",
      "hohage          44.436717   43.000000   11.620372\n",
      "hohedu           2.768104    2.000000    2.656106\n",
      "hohsex           0.925185    1.000000    0.263095\n",
      "hohwag         586.985312  500.000000  788.133664\n",
      "indig            0.298324    0.000000    0.457525\n",
      "min_dist       103.447520  111.228612   42.089441\n",
      "poor             0.846498    1.000000    0.360473\n",
      "progresa         0.615663    1.000000    0.486441\n",
      "sc               0.819818    1.000000    0.384342\n",
      "sc97             0.813922    1.000000    0.389172\n",
      "sex              0.512211    1.000000    0.499854\n",
      "welfare_index  690.346564  685.000000  139.491130\n"
     ]
    }
   ],
   "source": [
    "# your code here\n",
    "data = pd.read_csv(\"progresa_sample.csv\")\n",
    "data_1_1 = data.drop(['year','folnum','village'], axis = 1)\n",
    "# rows_with_missing_values = data_1_1[data_1_1.isnull().any(axis=1)]\n",
    "# print(rows_with_missing_values)\n",
    "print(data.head(3))\n",
    "## 'poor' and 'progresa' include string type data, first I tried to look at different\n",
    "## values of them and then I converted them into float type as mentioned\n",
    "poor_values = data_1_1['poor'].unique()\n",
    "print(\"unique values in 'poor':\", poor_values)\n",
    "progresa_values = data_1_1['progresa'].unique()\n",
    "print(\"unique values in 'progresa':\", progresa_values)\n",
    "\n",
    "# Convert 'poor' column values: 'no pobre' to 0, 'pobre' to 1\n",
    "data_1_1['poor'] = data_1_1['poor'].map({'no pobre': 0, 'pobre': 1})\n",
    "# Convert 'progresa' column values: 'basal' to 1, '0' to 0 (assuming '0' is a string)\n",
    "data_1_1['progresa'] = data_1_1['progresa'].map({'0': 0, 'basal': 1})\n",
    "\n",
    "# print(data_1_1)\n",
    "summary_1_1 = data_1_1.agg(['mean','median','std']).transpose().sort_index()\n",
    "print(summary_1_1)"
   ]
  },
  {
   "cell_type": "markdown",
   "metadata": {},
   "source": [
    "### 1.2 Differences at baseline?\n",
    "\n",
    "Are the baseline (1997) demographic characteristics **for the poor**  different in treatment and control villages?  Present your results in a single table with the following columns and 14 (or so) rows (alphabetized by variable name):\n",
    "\n",
    "\n",
    "| Variable name | Average value (Treatment villages) | Average value (Control villages) | Difference (Treat - Control) | p-value |\n",
    "|------|------|------|------|------|\n",
    "|Male|?|?|?|?|\n",
    "\n",
    " *Hint:* Use a T-Test to determine whether there is a statistically significant difference in the average values of each of the variables in the dataset. Focus only on the data from 1997 from poor households (i.e., poor=='pobre').\n",
    "\n"
   ]
  },
  {
   "cell_type": "code",
   "execution_count": 3,
   "metadata": {},
   "outputs": [
    {
     "name": "stdout",
     "output_type": "stream",
     "text": [
      "    Variable name  Average value (Treatment villages)  \\\n",
      "0             age                           10.716991   \n",
      "1        dist_cap                          150.829074   \n",
      "2        dist_sec                            2.453122   \n",
      "3           fam_n                            7.281327   \n",
      "4             grc                            3.531599   \n",
      "5           grc97                            3.531599   \n",
      "6          hohage                           43.648828   \n",
      "7          hohedu                            2.663139   \n",
      "8          hohsex                            0.924656   \n",
      "9          hohwag                          544.339544   \n",
      "10          indig                            0.325986   \n",
      "11       min_dist                          107.152915   \n",
      "12             sc                            0.822697   \n",
      "13           sc97                            0.822697   \n",
      "14            sex                            0.519317   \n",
      "15  welfare_index                          655.428377   \n",
      "\n",
      "    Average value (Control villages)  Difference (Treat - Control)  \\\n",
      "0                          10.742023                     -0.025032   \n",
      "1                         153.769730                     -2.940656   \n",
      "2                           2.507662                     -0.054540   \n",
      "3                           7.302469                     -0.021142   \n",
      "4                           3.543050                     -0.011450   \n",
      "5                           3.543050                     -0.011450   \n",
      "6                          44.276918                     -0.628090   \n",
      "7                           2.590348                      0.072791   \n",
      "8                           0.922947                      0.001709   \n",
      "9                         573.163558                    -28.824015   \n",
      "10                          0.332207                     -0.006222   \n",
      "11                        103.237854                      3.915060   \n",
      "12                          0.815186                      0.007511   \n",
      "13                          0.815186                      0.007511   \n",
      "14                          0.505052                      0.014265   \n",
      "15                        659.579100                     -4.150723   \n",
      "\n",
      "         p-value  \n",
      "0   4.785594e-01  \n",
      "1   8.415005e-04  \n",
      "2   3.569843e-02  \n",
      "3   4.271039e-01  \n",
      "4   6.890151e-01  \n",
      "5   6.890151e-01  \n",
      "6   1.796243e-06  \n",
      "7   1.105093e-02  \n",
      "8   5.711858e-01  \n",
      "9   3.253835e-04  \n",
      "10  2.453603e-01  \n",
      "11  2.358312e-16  \n",
      "12  9.517806e-02  \n",
      "13  9.517806e-02  \n",
      "14  1.219172e-02  \n",
      "15  1.431016e-03  \n"
     ]
    }
   ],
   "source": [
    "# your code here\n",
    "## control group: without treatment & treatment group: with treatment\n",
    "from scipy.stats import ttest_ind\n",
    "\n",
    "data_1_2 = data\n",
    "# year_unique = data_1_2[\"year\"].unique()\n",
    "# print(year_unique)  ##[97 98]\n",
    "\n",
    "# data preprocessing\n",
    "data_1_2['poor'] = data_1_2['poor'].map({'no pobre': 0, 'pobre': 1})\n",
    "data_1_2['progresa'] = data_1_2['progresa'].map({'0': 0, 'basal': 1})\n",
    "## choose the data from 1997 from poor households\n",
    "data_1997_poor = data_1_2[(data_1_2.year == 97) & (data_1_2.poor == 1)]\n",
    "\n",
    "# treatment group and control group\n",
    "t_grp = data_1997_poor[data_1997_poor.progresa == 1]\n",
    "c_grp = data_1997_poor[data_1997_poor.progresa == 0]\n",
    "\n",
    "# choose the demograpphic characteristics\n",
    "target_categories = sorted([col for col in data_1997_poor.columns if col not in ['year', 'folnum', 'village', 'poor', 'progresa']])\n",
    "\n",
    "# T-Test\n",
    "results = []\n",
    "for type in target_categories:\n",
    "    t_mean = t_grp[type].mean()\n",
    "    c_mean = c_grp[type].mean()\n",
    "    difference = t_mean - c_mean\n",
    "    t_stat, p_value = ttest_ind(t_grp[type].dropna(), c_grp[type].dropna(), nan_policy='omit')\n",
    "\n",
    "    results.append([type,t_mean,c_mean,difference,p_value])\n",
    "\n",
    "outputs = pd.DataFrame(results, columns =['Variable name','Average value (Treatment villages)','Average value (Control villages)','Difference (Treat - Control)','p-value'])\n",
    "print(outputs)\n",
    "                       "
   ]
  },
  {
   "cell_type": "markdown",
   "metadata": {},
   "source": [
    "### 1.3 Interpretation\n",
    "\n",
    "* A: Are there statistically significant differences between treatment and control villages at baseline? \n",
    "* B: Why does it matter if there are differences at baseline?\n",
    "* C: What does this imply about how to measure the impact of the treatment?"
   ]
  },
  {
   "cell_type": "code",
   "execution_count": 4,
   "metadata": {},
   "outputs": [
    {
     "name": "stdout",
     "output_type": "stream",
     "text": [
      "    Variable name  Average value (Treatment villages)  \\\n",
      "1        dist_cap                          150.829074   \n",
      "2        dist_sec                            2.453122   \n",
      "6          hohage                           43.648828   \n",
      "7          hohedu                            2.663139   \n",
      "9          hohwag                          544.339544   \n",
      "11       min_dist                          107.152915   \n",
      "14            sex                            0.519317   \n",
      "15  welfare_index                          655.428377   \n",
      "\n",
      "    Average value (Control villages)  Difference (Treat - Control)  \\\n",
      "1                         153.769730                     -2.940656   \n",
      "2                           2.507662                     -0.054540   \n",
      "6                          44.276918                     -0.628090   \n",
      "7                           2.590348                      0.072791   \n",
      "9                         573.163558                    -28.824015   \n",
      "11                        103.237854                      3.915060   \n",
      "14                          0.505052                      0.014265   \n",
      "15                        659.579100                     -4.150723   \n",
      "\n",
      "         p-value  \n",
      "1   8.415005e-04  \n",
      "2   3.569843e-02  \n",
      "6   1.796243e-06  \n",
      "7   1.105093e-02  \n",
      "9   3.253835e-04  \n",
      "11  2.358312e-16  \n",
      "14  1.219172e-02  \n",
      "15  1.431016e-03  \n"
     ]
    }
   ],
   "source": [
    "results_1_3 = outputs[outputs['p-value']<0.05]\n",
    "print(results_1_3)"
   ]
  },
  {
   "cell_type": "markdown",
   "metadata": {},
   "source": [
    "*Discuss your results here*\n",
    "* A: There're 8 different variables whose p-value are less than 0.05 between the treatment and control group at baseline, which indicates the statistically significant differences. \n",
    "* B: Baseline differences matter because they indicate pre-existing disparities between treatment and control groups before the intervention. Baseline differences between groups can confound the interpretation of post-treatment outcomes, making it challenging to attribute observed effects solely to the intervention. Significant differences at baseline can indicate problems with the randomization process, suggesting that the random assignment might not have been properly executed or that the sample size is too small to balance all covariates by chance. In some contexts, particularly in policy research and program evaluation, baseline differences might raise concerns about equity and fairness of the intervention.\n",
    "* C: The The presence of statistically significant differences at baseline implies the need for careful adjustment in the impact analysis to account for these initial disparities. Also, the presence of statistically significant differences at baseline implies the need for careful adjustment in the impact analysis to account for these initial disparities. We must take these differences into account when interpreting the results to ensure the validity of the conclusions. Moreover, given the baseline differences, a DiD approach could help mitigate some concerns by focusing on changes over time within each group, assuming parallel trends. "
   ]
  },
  {
   "cell_type": "markdown",
   "metadata": {},
   "source": [
    "### 1.4 Graphical exploration, part 1\n",
    "\n",
    "Visualize the distribution of village enrollment rates **among poor households in treated villages**, before and after treatment. Specifically, for each village, calculate the average rate of enrollment of poor households in treated villages in 1997, then compute the average rate of enrollment of poor households in treated villages in 1998. Create two separate histograms showing the distribution of these average enrollments rates, one histogram for 1997 and one histogram for 1998. On each histogram, draw a vertical line that intersects the x-axis at the average value (across all households). Does there appear to be a difference? Is this difference statistically significant?"
   ]
  },
  {
   "cell_type": "code",
   "execution_count": 5,
   "metadata": {},
   "outputs": [
    {
     "data": {
      "image/png": "[encoded data removed]",
      "text/plain": [
       "<Figure size 1200x600 with 2 Axes>"
      ]
     },
     "metadata": {},
     "output_type": "display_data"
    }
   ],
   "source": [
    "# Your code here\n",
    "data_1_4 = data_1_2\n",
    "\n",
    "t_village = data_1_4[(data_1_4.progresa==1)&(data_1_4.poor==1)]\n",
    "avg_1997 = t_village[t_village.year == 97].groupby('village')['sc'].mean()\n",
    "avg_1998 = t_village[t_village.year == 98].groupby('village')['sc'].mean()\n",
    "\n",
    "# plotting\n",
    "# plt.figure()\n",
    "plt.figure(figsize=(12,6))\n",
    "# 1997\n",
    "plt.subplot(1, 2, 1)\n",
    "plt.hist(avg_1997, bins=30, color='skyblue', alpha=0.7)\n",
    "plt.axvline(avg_1997.mean(), color='darkblue', linestyle='dashed', linewidth=1)\n",
    "plt.text(avg_1997.mean() + 0.01, 5, f'Mean: {avg_1997.mean():.2f}', color='darkblue')\n",
    "plt.title('1997 Enrollment Rates in Treated Villages')\n",
    "plt.xlabel('Average Enrollment Rate')\n",
    "plt.ylabel('Frequency')\n",
    "\n",
    "# 1998\n",
    "plt.subplot(1, 2, 2)\n",
    "plt.hist(avg_1998, bins=30, color='lightgreen', alpha=0.7)\n",
    "plt.axvline(avg_1998.mean(), color='darkgreen', linestyle='dashed', linewidth=1)\n",
    "plt.text(avg_1998.mean() + 0.01, 5, f'Mean: {avg_1998.mean():.2f}', color='darkgreen')\n",
    "plt.title('1998 Enrollment Rates in Treated Villages')\n",
    "plt.xlabel('Average Enrollment Rate')\n",
    "plt.ylabel('Frequency')\n",
    "\n",
    "plt.tight_layout()\n",
    "plt.show()"
   ]
  },
  {
   "cell_type": "markdown",
   "metadata": {},
   "source": [
    "*Discuss your results here*  \n",
    "\n",
    "Yes. The average enrollment rate in 1998 is higher compared to 1997. \n",
    "However, to determine whetheer the difference is statistically significant, a t-test would be needed."
   ]
  },
  {
   "cell_type": "markdown",
   "metadata": {},
   "source": [
    "### 1.5 Graphical exploration, part 2\n",
    "\n",
    "Repeat the above exercise for poor households in **control villages**, before and after treatment. Do you observe a difference in enrollment in control villages between 1997 and 1998? How does what you observe here affect how you might approach measuring the impact of PROGRESA?"
   ]
  },
  {
   "cell_type": "code",
   "execution_count": 6,
   "metadata": {},
   "outputs": [
    {
     "data": {
      "image/png": "[encoded data removed]",
      "text/plain": [
       "<Figure size 1200x600 with 2 Axes>"
      ]
     },
     "metadata": {},
     "output_type": "display_data"
    }
   ],
   "source": [
    "c_village = data_1_4[(data_1_4.progresa==0)&(data_1_4.poor==1)]\n",
    "avg_1997_2 = c_village[c_village.year == 97].groupby('village')['sc'].mean()\n",
    "avg_1998_2 = c_village[c_village.year == 98].groupby('village')['sc'].mean()\n",
    "\n",
    "# plotting\n",
    "# plt.figure()\n",
    "plt.figure(figsize=(12,6))\n",
    "# 1997\n",
    "plt.subplot(1, 2, 1)\n",
    "plt.hist(avg_1997_2, bins=30, color='skyblue', alpha=0.7)\n",
    "plt.axvline(avg_1997_2.mean(), color='darkblue', linestyle='dashed', linewidth=1)\n",
    "plt.text(avg_1997_2.mean() + 0.01, 5, f'Mean: {avg_1998.mean():.2f}', color='darkgreen')\n",
    "plt.title('1997 Enrollment Rates in Treated Villages')\n",
    "plt.xlabel('Average Enrollment Rate')\n",
    "plt.ylabel('Frequency')\n",
    "\n",
    "# 1998\n",
    "plt.subplot(1, 2, 2)\n",
    "plt.hist(avg_1998_2, bins=30, color='lightgreen', alpha=0.7)\n",
    "plt.axvline(avg_1998_2.mean(), color='darkgreen', linestyle='dashed', linewidth=1)\n",
    "plt.text(avg_1998_2.mean() + 0.01, 5, f'Mean: {avg_1998.mean():.2f}', color='darkgreen')\n",
    "plt.title('1998 Enrollment Rates in Treated Villages')\n",
    "plt.xlabel('Average Enrollment Rate')\n",
    "plt.ylabel('Frequency')\n",
    "\n",
    "plt.tight_layout()\n",
    "plt.show()"
   ]
  },
  {
   "cell_type": "markdown",
   "metadata": {},
   "source": [
    "*Discuss your results here*  \n",
    "No. The mean remains the same. This ensure that changes in the treatment group are likely due to the intervention rather than other external factors."
   ]
  },
  {
   "cell_type": "markdown",
   "metadata": {},
   "source": [
    "## Part 2: Measuring Impact\n",
    "\n",
    "Our goal is to estimate the causal impact of the PROGRESA program on the social and economic outcomes of individuals in Mexico. We will focus on the impact of the program on school enrollment rates among the poor (those with poor=='pobre'), since only the poor were eligible to receive PROGRESA assistance, and since a primary objective of the program was to increase school enrollment.\n",
    "\n",
    "### 2.1 Simple differences: T-test\n",
    "\n",
    "Begin by estimating the impact of Progresa using \"simple differences.\" Restricting yourself to data from 1998 (after treatment), calculate the average enrollment rate among **poor** households in the Treatment villages and the average enrollment rate among **poor** households in the control villages. Use a t-test to determine if this difference is statistically significant. What do you conclude?"
   ]
  },
  {
   "cell_type": "code",
   "execution_count": 7,
   "metadata": {},
   "outputs": [
    {
     "name": "stdout",
     "output_type": "stream",
     "text": [
      "    year  sex  indig  dist_sec   sc  grc  fam_n    min_dist    dist_cap  poor  \\\n",
      "7     98  0.0    0.0     3.154  0.0  6.0      6  127.114780  154.196003     1   \n",
      "9     98  1.0    0.0     3.373  1.0  2.0      5   85.300272  105.878669     1   \n",
      "11    98  0.0    0.0     3.373  1.0  3.0      5   85.300272  105.878669     1   \n",
      "\n",
      "    ...  hohedu  hohwag  welfare_index  hohsex  hohage  age  village  folnum  \\\n",
      "7   ...       4     0.0      684.00000     1.0    85.0   15      271       4   \n",
      "9   ...       6   875.0      742.14001     1.0    26.0   10      263       5   \n",
      "11  ...       6   875.0      742.14001     1.0    26.0    8      263       6   \n",
      "\n",
      "    grc97  sc97  \n",
      "7       6   0.0  \n",
      "9       2   1.0  \n",
      "11      2   1.0  \n",
      "\n",
      "[3 rows x 21 columns]\n",
      "   year  sex  indig  dist_sec   sc  grc  fam_n   min_dist   dist_cap  poor  \\\n",
      "1    98  0.0    0.0     4.473  1.0  8.0      7  21.168384  21.168384     1   \n",
      "3    98  1.0    0.0     4.473  1.0  7.0      7  21.168384  21.168384     1   \n",
      "5    98  0.0    0.0     4.473  1.0  3.0      7  21.168384  21.168384     1   \n",
      "\n",
      "   ...  hohedu  hohwag  welfare_index  hohsex  hohage  age  village  folnum  \\\n",
      "1  ...       6     0.0          583.0     1.0    35.0   14      163       1   \n",
      "3  ...       6     0.0          583.0     1.0    35.0   13      163       2   \n",
      "5  ...       6     0.0          583.0     1.0    35.0    9      163       3   \n",
      "\n",
      "   grc97  sc97  \n",
      "1      7   1.0  \n",
      "3      6   1.0  \n",
      "5      2   1.0  \n",
      "\n",
      "[3 rows x 21 columns]\n",
      "the average enrollment rate of treatment group is:  0.8464791213954308\n",
      "the average enrollment rate of control group is:  0.807636956730308\n",
      "2.9655072988948406e-16\n"
     ]
    }
   ],
   "source": [
    "# Your code here\n",
    "data_2_1 = data_1_4\n",
    "t_village_98 = data_2_1[(data_2_1.year == 98)&(data_2_1.progresa == 1)&(data_2_1.poor==1)]\n",
    "c_village_98 = data_2_1[(data_2_1.year == 98)&(data_2_1.progresa == 0)&(data_2_1.poor==1)]\n",
    "print(t_village_98.head(3))\n",
    "print(c_village_98.head(3))\n",
    "t_mean = t_village_98['sc'].mean()\n",
    "c_mean = c_village_98['sc'].mean()\n",
    "print(\"the average enrollment rate of treatment group is: \",t_mean)\n",
    "print(\"the average enrollment rate of control group is: \",c_mean)\n",
    "t_stat, p_value = ttest_ind(t_village_98['sc'].dropna(),c_village_98['sc'].dropna(),equal_var=False)\n",
    "print(p_value)"
   ]
  },
  {
   "cell_type": "markdown",
   "metadata": {},
   "source": [
    "*Discuss your results here*  \n",
    "The p-value is less than 0.05, which determines the difference is statistically significant. Thus, it can be concluded that PROGRESA would have positive effect on the average enrollment rate."
   ]
  },
  {
   "cell_type": "markdown",
   "metadata": {},
   "source": [
    "### 2.2 Simple differences: Regression\n",
    "\n",
    "Estimate the effects of Progresa on enrollment using a regression model, by regressing the 1998 enrollment rates **of the poor** on treatment assignment. For now, do not include any other variables in your regression. Discuss the following:\n",
    "\n",
    "* Based on this model, how much did Progresa increase or decrease the likelihood of a child enrolling? Make sure you express you answer in a sentence that a person with no technical background could understand, using appropriate units.\n",
    "* How does your regression estimate compare to your t-test estimate from part 2.1?\n",
    "* Based on this regression model, can we reject the null hypothesis that the treatment effects are zero? \n",
    "* What is the counterfactual assumption underlying this regression?"
   ]
  },
  {
   "cell_type": "code",
   "execution_count": 8,
   "metadata": {},
   "outputs": [
    {
     "data": {
      "text/html": [
       "<table class=\"simpletable\">\n",
       "<caption>OLS Regression Results</caption>\n",
       "<tr>\n",
       "  <th>Dep. Variable:</th>           <td>sc</td>        <th>  R-squared:         </th> <td>   0.003</td> \n",
       "</tr>\n",
       "<tr>\n",
       "  <th>Model:</th>                   <td>OLS</td>       <th>  Adj. R-squared:    </th> <td>   0.003</td> \n",
       "</tr>\n",
       "<tr>\n",
       "  <th>Method:</th>             <td>Least Squares</td>  <th>  F-statistic:       </th> <td>   69.87</td> \n",
       "</tr>\n",
       "<tr>\n",
       "  <th>Date:</th>             <td>Mon, 05 Feb 2024</td> <th>  Prob (F-statistic):</th> <td>6.64e-17</td> \n",
       "</tr>\n",
       "<tr>\n",
       "  <th>Time:</th>                 <td>23:37:02</td>     <th>  Log-Likelihood:    </th> <td> -11926.</td> \n",
       "</tr>\n",
       "<tr>\n",
       "  <th>No. Observations:</th>      <td> 27450</td>      <th>  AIC:               </th> <td>2.386e+04</td>\n",
       "</tr>\n",
       "<tr>\n",
       "  <th>Df Residuals:</th>          <td> 27448</td>      <th>  BIC:               </th> <td>2.387e+04</td>\n",
       "</tr>\n",
       "<tr>\n",
       "  <th>Df Model:</th>              <td>     1</td>      <th>                     </th>     <td> </td>    \n",
       "</tr>\n",
       "<tr>\n",
       "  <th>Covariance Type:</th>      <td>nonrobust</td>    <th>                     </th>     <td> </td>    \n",
       "</tr>\n",
       "</table>\n",
       "<table class=\"simpletable\">\n",
       "<tr>\n",
       "      <td></td>        <th>coef</th>     <th>std err</th>      <th>t</th>      <th>P>|t|</th>  <th>[0.025</th>    <th>0.975]</th>  \n",
       "</tr>\n",
       "<tr>\n",
       "  <th>const</th>    <td>    0.8076</td> <td>    0.004</td> <td>  220.676</td> <td> 0.000</td> <td>    0.800</td> <td>    0.815</td>\n",
       "</tr>\n",
       "<tr>\n",
       "  <th>progresa</th> <td>    0.0388</td> <td>    0.005</td> <td>    8.359</td> <td> 0.000</td> <td>    0.030</td> <td>    0.048</td>\n",
       "</tr>\n",
       "</table>\n",
       "<table class=\"simpletable\">\n",
       "<tr>\n",
       "  <th>Omnibus:</th>       <td>7638.939</td> <th>  Durbin-Watson:     </th> <td>   1.734</td> \n",
       "</tr>\n",
       "<tr>\n",
       "  <th>Prob(Omnibus):</th>  <td> 0.000</td>  <th>  Jarque-Bera (JB):  </th> <td>15767.534</td>\n",
       "</tr>\n",
       "<tr>\n",
       "  <th>Skew:</th>           <td>-1.767</td>  <th>  Prob(JB):          </th> <td>    0.00</td> \n",
       "</tr>\n",
       "<tr>\n",
       "  <th>Kurtosis:</th>       <td> 4.140</td>  <th>  Cond. No.          </th> <td>    3.01</td> \n",
       "</tr>\n",
       "</table><br/><br/>Notes:<br/>[1] Standard Errors assume that the covariance matrix of the errors is correctly specified."
      ],
      "text/latex": [
       "\\begin{center}\n",
       "\\begin{tabular}{lclc}\n",
       "\\toprule\n",
       "\\textbf{Dep. Variable:}    &        sc        & \\textbf{  R-squared:         } &     0.003   \\\\\n",
       "\\textbf{Model:}            &       OLS        & \\textbf{  Adj. R-squared:    } &     0.003   \\\\\n",
       "\\textbf{Method:}           &  Least Squares   & \\textbf{  F-statistic:       } &     69.87   \\\\\n",
       "\\textbf{Date:}             & Mon, 05 Feb 2024 & \\textbf{  Prob (F-statistic):} &  6.64e-17   \\\\\n",
       "\\textbf{Time:}             &     23:37:02     & \\textbf{  Log-Likelihood:    } &   -11926.   \\\\\n",
       "\\textbf{No. Observations:} &       27450      & \\textbf{  AIC:               } & 2.386e+04   \\\\\n",
       "\\textbf{Df Residuals:}     &       27448      & \\textbf{  BIC:               } & 2.387e+04   \\\\\n",
       "\\textbf{Df Model:}         &           1      & \\textbf{                     } &             \\\\\n",
       "\\textbf{Covariance Type:}  &    nonrobust     & \\textbf{                     } &             \\\\\n",
       "\\bottomrule\n",
       "\\end{tabular}\n",
       "\\begin{tabular}{lcccccc}\n",
       "                  & \\textbf{coef} & \\textbf{std err} & \\textbf{t} & \\textbf{P$> |$t$|$} & \\textbf{[0.025} & \\textbf{0.975]}  \\\\\n",
       "\\midrule\n",
       "\\textbf{const}    &       0.8076  &        0.004     &   220.676  &         0.000        &        0.800    &        0.815     \\\\\n",
       "\\textbf{progresa} &       0.0388  &        0.005     &     8.359  &         0.000        &        0.030    &        0.048     \\\\\n",
       "\\bottomrule\n",
       "\\end{tabular}\n",
       "\\begin{tabular}{lclc}\n",
       "\\textbf{Omnibus:}       & 7638.939 & \\textbf{  Durbin-Watson:     } &     1.734  \\\\\n",
       "\\textbf{Prob(Omnibus):} &   0.000  & \\textbf{  Jarque-Bera (JB):  } & 15767.534  \\\\\n",
       "\\textbf{Skew:}          &  -1.767  & \\textbf{  Prob(JB):          } &      0.00  \\\\\n",
       "\\textbf{Kurtosis:}      &   4.140  & \\textbf{  Cond. No.          } &      3.01  \\\\\n",
       "\\bottomrule\n",
       "\\end{tabular}\n",
       "%\\caption{OLS Regression Results}\n",
       "\\end{center}\n",
       "\n",
       "Notes: \\newline\n",
       " [1] Standard Errors assume that the covariance matrix of the errors is correctly specified."
      ],
      "text/plain": [
       "<class 'statsmodels.iolib.summary.Summary'>\n",
       "\"\"\"\n",
       "                            OLS Regression Results                            \n",
       "==============================================================================\n",
       "Dep. Variable:                     sc   R-squared:                       0.003\n",
       "Model:                            OLS   Adj. R-squared:                  0.003\n",
       "Method:                 Least Squares   F-statistic:                     69.87\n",
       "Date:                Mon, 05 Feb 2024   Prob (F-statistic):           6.64e-17\n",
       "Time:                        23:37:02   Log-Likelihood:                -11926.\n",
       "No. Observations:               27450   AIC:                         2.386e+04\n",
       "Df Residuals:                   27448   BIC:                         2.387e+04\n",
       "Df Model:                           1                                         \n",
       "Covariance Type:            nonrobust                                         \n",
       "==============================================================================\n",
       "                 coef    std err          t      P>|t|      [0.025      0.975]\n",
       "------------------------------------------------------------------------------\n",
       "const          0.8076      0.004    220.676      0.000       0.800       0.815\n",
       "progresa       0.0388      0.005      8.359      0.000       0.030       0.048\n",
       "==============================================================================\n",
       "Omnibus:                     7638.939   Durbin-Watson:                   1.734\n",
       "Prob(Omnibus):                  0.000   Jarque-Bera (JB):            15767.534\n",
       "Skew:                          -1.767   Prob(JB):                         0.00\n",
       "Kurtosis:                       4.140   Cond. No.                         3.01\n",
       "==============================================================================\n",
       "\n",
       "Notes:\n",
       "[1] Standard Errors assume that the covariance matrix of the errors is correctly specified.\n",
       "\"\"\""
      ]
     },
     "execution_count": 8,
     "metadata": {},
     "output_type": "execute_result"
    }
   ],
   "source": [
    "# Your code here\n",
    "import statsmodels.api as sm\n",
    "\n",
    "data_2_2 = data_1_4[(data_1_4.year == 98)&(data_1_4.poor == 1)]\n",
    "data_2_2_2 = data_2_2.dropna(subset = ['progresa','sc'])\n",
    "X = data_2_2_2['progresa']\n",
    "y = data_2_2_2['sc']\n",
    "X = sm.add_constant(X)\n",
    "\n",
    "model = sm.OLS(y, X).fit()\n",
    "model_summary = model.summary()\n",
    "model_summary"
   ]
  },
  {
   "cell_type": "markdown",
   "metadata": {},
   "source": [
    "*Discuss your results here*  \n",
    "\n",
    "* Based on the model, the coefficient for progresa is 0.0388, with a standard error of 0.005. In plain language, this means that being in a village treated with the Progresa program is associated with an increase in the likelihood of a child's enrollment in school by approximately 3.88 percentage points.\n",
    "* It's similar. However, the regression model provides a more precise estimate as it accounts for the variance in the enrollment rate explained by the treatment, while the t-test compares the means of two independent samples.\n",
    "* Given the p-value associated with the progresa coefficient is 0.000 (less than any standard significance level like 0.01, 0.05, or 0.10), we can reject the null hypothesis that Progresa had no effect on enrollment rates. And there's actually a positive impact of the Progresa program.\n",
    "* The counterfactual assumption in this regression is that in the absence of the Progresa program, there would have been no difference in enrollment rates between the treatment and control groups, or the difference would have remained constant over time. "
   ]
  },
  {
   "cell_type": "markdown",
   "metadata": {},
   "source": [
    "### 2.3 Multiple Regression\n",
    "\n",
    "Estimate the above regression, but this time include a set of control variables. Include, for instance, age, distance to a secondary school, gender, education of household head, welfare index, indigenous, etc.\n",
    "\n",
    "* How do the controls affect the point estimate of treatment effect?\n",
    "* How do the controls affect the standard error on the treatment effect? \n",
    "* How do you interpret the differences (or similarities) between your estimates of 2.2 and 2.3?\n",
    "* Interpet the coefficient associated with the `dist_sec` variable. Is this evidence that the household's distance from a secondary school has a *causal* impact on educational attainment?"
   ]
  },
  {
   "cell_type": "code",
   "execution_count": 9,
   "metadata": {},
   "outputs": [
    {
     "name": "stdout",
     "output_type": "stream",
     "text": [
      "                            OLS Regression Results                            \n",
      "==============================================================================\n",
      "Dep. Variable:                     sc   R-squared:                       0.267\n",
      "Model:                            OLS   Adj. R-squared:                  0.267\n",
      "Method:                 Least Squares   F-statistic:                     1419.\n",
      "Date:                Mon, 05 Feb 2024   Prob (F-statistic):               0.00\n",
      "Time:                        23:37:02   Log-Likelihood:                -7639.4\n",
      "No. Observations:               27267   AIC:                         1.529e+04\n",
      "Df Residuals:                   27259   BIC:                         1.536e+04\n",
      "Df Model:                           7                                         \n",
      "Covariance Type:            nonrobust                                         \n",
      "=================================================================================\n",
      "                    coef    std err          t      P>|t|      [0.025      0.975]\n",
      "---------------------------------------------------------------------------------\n",
      "const             1.5025      0.014    105.342      0.000       1.475       1.530\n",
      "progresa          0.0352      0.004      8.799      0.000       0.027       0.043\n",
      "age              -0.0655      0.001    -95.105      0.000      -0.067      -0.064\n",
      "dist_sec         -0.0117      0.001    -13.361      0.000      -0.013      -0.010\n",
      "sex               0.0310      0.004      7.977      0.000       0.023       0.039\n",
      "hohedu            0.0085      0.001     10.951      0.000       0.007       0.010\n",
      "welfare_index  3.227e-05   1.72e-05      1.872      0.061   -1.52e-06    6.61e-05\n",
      "indig             0.0468      0.004     11.283      0.000       0.039       0.055\n",
      "==============================================================================\n",
      "Omnibus:                     2993.090   Durbin-Watson:                   1.718\n",
      "Prob(Omnibus):                  0.000   Jarque-Bera (JB):             4083.947\n",
      "Skew:                          -0.940   Prob(JB):                         0.00\n",
      "Kurtosis:                       3.248   Cond. No.                     4.90e+03\n",
      "==============================================================================\n",
      "\n",
      "Notes:\n",
      "[1] Standard Errors assume that the covariance matrix of the errors is correctly specified.\n",
      "[2] The condition number is large, 4.9e+03. This might indicate that there are\n",
      "strong multicollinearity or other numerical problems.\n"
     ]
    }
   ],
   "source": [
    "# Your code here\n",
    "data_2_2_3 = data_2_2.dropna(subset = ['progresa','age', 'dist_sec', 'sex', 'hohedu', 'welfare_index', 'indig','sc'])\n",
    "control_vars = data_2_2_3[['progresa', 'age', 'dist_sec', 'sex', 'hohedu', 'welfare_index', 'indig']]\n",
    "y_3 = data_2_2_3['sc']\n",
    "control_vars = sm.add_constant(control_vars)\n",
    "# X_clean = control_vars.dropna()\n",
    "# y_clean = y.loc[X_clean.index]\n",
    "\n",
    "model_c = sm.OLS(y_3,control_vars).fit()\n",
    "\n",
    "model_c_summary = model_c.summary()\n",
    "print(model_c_summary)"
   ]
  },
  {
   "attachments": {},
   "cell_type": "markdown",
   "metadata": {},
   "source": [
    "*Discuss your results here*  \n",
    "* The point estimate of the treatment effect for progresa is 0.0352 when control variables are included, which is different from the initial model without controls (where it was 0.0388). This implies a negative effect of the control variables on the progresa.\n",
    "* The standard error for the progresa coefficient is 0.004, which is slightly lower than in the initial model without controls (which was 0.005). This suggests that including control variables has made the estimate of the treatment effect more precise.\n",
    "* As mentioned above, the treatment effect estimate remains similar in magnitude and significance when control variables are added, this suggests that the treatment effect is robust and not confounded by those variables. However, it should also be noticed that the the model will be more precise when taking the control variables into consideration.\n",
    "* The coefficient for dist_sec is -0.0117, which indicates that as the distance to the nearest secondary school increases by one unit (likely one kilometer, based on the context), the likelihood of school enrollment decreases by 1.17 percentage points. While this relationship is statistically significant, it does not necessarily imply causation. It shows a strong association between distance and enrollment, but to prove causality, we would need to eliminate the possibility of all other confounding variables influencing this relationship. "
   ]
  },
  {
   "cell_type": "markdown",
   "metadata": {},
   "source": [
    "### 2.4 Multiple Regression Revisited\n",
    "\n",
    "For the same set of control variables that you used in 2.3, carry out the following alternative estimation procedure. \n",
    "\n",
    "* First, regress the 1998 enrollment of the poor on the control variables, **without including the treatment assignment.** \n",
    "* Second, use this model to obtain predicted values of the 1998 enrollment for each child in the sample used to estimate the model in step 1. \n",
    "* Third, compute a new value for each child, which is the difference between the actual 1998 enrollment and the predicted enrollment value from step 2. \n",
    "* Finally, regress the difference from step 3 on treatment assignment.\n",
    "\n",
    "Compare the point estimate and the standard error on treatment assignment that you obtained in step 4 to their analogues in 2.3. Explain the results."
   ]
  },
  {
   "cell_type": "code",
   "execution_count": 10,
   "metadata": {},
   "outputs": [
    {
     "name": "stdout",
     "output_type": "stream",
     "text": [
      "step 1 model:                             OLS Regression Results                            \n",
      "==============================================================================\n",
      "Dep. Variable:                     sc   R-squared:                       0.265\n",
      "Model:                            OLS   Adj. R-squared:                  0.265\n",
      "Method:                 Least Squares   F-statistic:                     1638.\n",
      "Date:                Mon, 05 Feb 2024   Prob (F-statistic):               0.00\n",
      "Time:                        23:37:03   Log-Likelihood:                -7678.0\n",
      "No. Observations:               27267   AIC:                         1.537e+04\n",
      "Df Residuals:                   27260   BIC:                         1.543e+04\n",
      "Df Model:                           6                                         \n",
      "Covariance Type:            nonrobust                                         \n",
      "=================================================================================\n",
      "                    coef    std err          t      P>|t|      [0.025      0.975]\n",
      "---------------------------------------------------------------------------------\n",
      "const             1.5269      0.014    108.980      0.000       1.499       1.554\n",
      "age              -0.0655      0.001    -95.002      0.000      -0.067      -0.064\n",
      "dist_sec         -0.0118      0.001    -13.409      0.000      -0.013      -0.010\n",
      "sex               0.0314      0.004      8.066      0.000       0.024       0.039\n",
      "hohedu            0.0086      0.001     11.045      0.000       0.007       0.010\n",
      "welfare_index  2.847e-05   1.73e-05      1.650      0.099   -5.36e-06    6.23e-05\n",
      "indig             0.0466      0.004     11.212      0.000       0.038       0.055\n",
      "==============================================================================\n",
      "Omnibus:                     3018.557   Durbin-Watson:                   1.714\n",
      "Prob(Omnibus):                  0.000   Jarque-Bera (JB):             4128.775\n",
      "Skew:                          -0.945   Prob(JB):                         0.00\n",
      "Kurtosis:                       3.252   Cond. No.                     4.80e+03\n",
      "==============================================================================\n",
      "\n",
      "Notes:\n",
      "[1] Standard Errors assume that the covariance matrix of the errors is correctly specified.\n",
      "[2] The condition number is large, 4.8e+03. This might indicate that there are\n",
      "strong multicollinearity or other numerical problems.\n",
      "step 4 model:                             OLS Regression Results                            \n",
      "==============================================================================\n",
      "Dep. Variable:                      y   R-squared:                       0.003\n",
      "Model:                            OLS   Adj. R-squared:                  0.003\n",
      "Method:                 Least Squares   F-statistic:                     77.36\n",
      "Date:                Mon, 05 Feb 2024   Prob (F-statistic):           1.50e-18\n",
      "Time:                        23:37:03   Log-Likelihood:                -7639.4\n",
      "No. Observations:               27267   AIC:                         1.528e+04\n",
      "Df Residuals:                   27265   BIC:                         1.530e+04\n",
      "Df Model:                           1                                         \n",
      "Covariance Type:            nonrobust                                         \n",
      "==============================================================================\n",
      "                 coef    std err          t      P>|t|      [0.025      0.975]\n",
      "------------------------------------------------------------------------------\n",
      "const         -0.0219      0.003     -6.934      0.000      -0.028      -0.016\n",
      "progresa       0.0352      0.004      8.796      0.000       0.027       0.043\n",
      "==============================================================================\n",
      "Omnibus:                     2987.229   Durbin-Watson:                   1.718\n",
      "Prob(Omnibus):                  0.000   Jarque-Bera (JB):             4073.678\n",
      "Skew:                          -0.939   Prob(JB):                         0.00\n",
      "Kurtosis:                       3.246   Cond. No.                         3.01\n",
      "==============================================================================\n",
      "\n",
      "Notes:\n",
      "[1] Standard Errors assume that the covariance matrix of the errors is correctly specified.\n"
     ]
    }
   ],
   "source": [
    "# Your code here\n",
    "data_2_4 = data[(data.year == 98)&(data.poor == 1)]\n",
    "data_2_4_1 = data_2_4.dropna(subset = ['age', 'dist_sec', 'sex', 'hohedu', 'welfare_index', 'indig','sc'])\n",
    "x_4 = data_2_4_1[['age', 'dist_sec', 'sex', 'hohedu', 'welfare_index', 'indig']]\n",
    "y_4 = data_2_4_1['sc']\n",
    "x_4 = sm.add_constant(x_4)\n",
    "\n",
    "model_4 = sm.OLS(y_4,x_4).fit()\n",
    "\n",
    "model_4_summary = model_4.summary()\n",
    "print(\"step 1 model:\",model_4_summary)\n",
    "## step2\n",
    "predicted_2 = model_4.predict(x_4)\n",
    "## step3\n",
    "difference = y_4 - predicted_2\n",
    "# print(difference.head(3))\n",
    "## step4\n",
    "x_4_2 = sm.add_constant(data_2_4.loc[x_4.index,'progresa'])\n",
    "model_4_2 = sm.OLS(difference, x_4_2).fit()\n",
    "print(\"step 4 model:\",model_4_2.summary())"
   ]
  },
  {
   "cell_type": "markdown",
   "metadata": {},
   "source": [
    "*Discuss your results here*  \n",
    "It remains the same. The treatment effect of Progresa on school enrollment is consistent across different approaches. This robustness adds credibility to the finding that Progresa has a significant impact on school enrollment rates among the poor. The treatment effect of Progresa on school enrollment is consistent across different methodological approaches. This robustness adds credibility to the finding that Progresa has a significant impact on school enrollment rates among the poor.  \n",
    "While regression analysis on observational data can never fully prove causation, consistent results across different methodological approaches strengthen the argument for a causal relationship between Progresa and increased school enrollment."
   ]
  },
  {
   "cell_type": "markdown",
   "metadata": {},
   "source": [
    "### 2.5 Difference-in-Difference, version 1 (tabular)\n",
    "\n",
    "Thus far, we have computed the effects of Progresa by estimating the difference in 1998 enrollment rates across villages. An alternative approach would be to compute the treatment effect using a difference-in-differences framework.\n",
    "\n",
    "Begin by estimating the average treatment effects of the program for poor households using data from 1997 and 1998. Specifically, calculate the difference (between 1997 and 1998) in enrollment rates among poor households in treated villages; then compute the difference (between 1997 and 1998) in enrollment rates among poor households in control villages. \n",
    "\n",
    "Display your results in a 2x2 table where the rows are Control/Treatment and the columns are 1997/1998. \n",
    "\n",
    "* What is your difference-in-difference estimate of the impact, and how does it compare to your earlier (simple difference) results?\n",
    "* What is the counterfactual assumption underlying this estimate? \n"
   ]
  },
  {
   "cell_type": "code",
   "execution_count": 11,
   "metadata": {},
   "outputs": [
    {
     "name": "stdout",
     "output_type": "stream",
     "text": [
      "year            97        98\n",
      "progresa                    \n",
      "0         0.815186  0.807637\n",
      "1         0.822697  0.846479\n"
     ]
    }
   ],
   "source": [
    "# Your code here\n",
    "data_2_5 = data[data.poor == 1]\n",
    "avg_enroll = data_2_5.groupby(['progresa', 'year'])['sc'].mean().unstack()\n",
    "print(avg_enroll)"
   ]
  },
  {
   "cell_type": "markdown",
   "metadata": {},
   "source": [
    "*Discuss your results here*  \n",
    "\n",
    "In control group(1997-1998): enrollment rates changed from 0.807637.\n",
    "In treatment gropu(1997-1998): enrollment rates changed form 0.8222697 to 0.846479.\n",
    "And the DiD estimate is :\n",
    "$$DiD = (0.846479−0.822697)−(0.807637−0.815186)=0.031331$$\n",
    "The DiD estimate suggests that the Progresa increased school enrollment rates among poor households in the districts by around 3.1 percentage points, after controlling for unobserved factors that do not vary over time.\n",
    "Compared to the simple difference results, the DiD can control for time-invariant unobserbed heterogeneity.\n",
    "The counterfactual assumption underlying this estimate is that without the Progresa program, the change in enrollment rates over time for the treatment group would have been the same as the change observed in the control group(parallel trends assumption)."
   ]
  },
  {
   "cell_type": "markdown",
   "metadata": {},
   "source": [
    "### 2.6 Difference-in-Difference, version 2 (regression)\n",
    "\n",
    "Now use a regression specification to estimate the average treatment effects of the program in a difference-in-differences, for the poor households. Do this (i) first without including any control variables; and then (ii) do it a second time including at least 5 control variables. \n",
    "\n",
    "* What is your estimate (i) of the impact of Progresa? Be very specific in interpreting your coefficients and standard errors, and make sure to specify exactly what units you are measuring and estimating.\n",
    "* Does your estimate of the impact of Progresa from (i) change when you add control variables as in (ii)? How do you explain these changes, or the lack of changes on the `progresa` coefficient between (i) and (ii)?\n",
    "* How do the estimates from (i) and (ii) compare to the difference-in-difference estimates from 2.4 above? What accounts for these differences, if any exist?\n",
    "* What is the counterfactual assumption underlying regression (ii)? "
   ]
  },
  {
   "cell_type": "code",
   "execution_count": 12,
   "metadata": {},
   "outputs": [
    {
     "name": "stdout",
     "output_type": "stream",
     "text": [
      "                            OLS Regression Results                            \n",
      "==============================================================================\n",
      "Dep. Variable:                     sc   R-squared:                       0.001\n",
      "Model:                            OLS   Adj. R-squared:                  0.001\n",
      "Method:                 Least Squares   F-statistic:                     28.31\n",
      "Date:                Mon, 05 Feb 2024   Prob (F-statistic):           2.76e-18\n",
      "Time:                        23:37:03   Log-Likelihood:                -26242.\n",
      "No. Observations:               58372   AIC:                         5.249e+04\n",
      "Df Residuals:                   58368   BIC:                         5.253e+04\n",
      "Df Model:                           3                                         \n",
      "Covariance Type:            nonrobust                                         \n",
      "==================================================================================\n",
      "                     coef    std err          t      P>|t|      [0.025      0.975]\n",
      "----------------------------------------------------------------------------------\n",
      "Intercept          0.8152      0.003    233.182      0.000       0.808       0.822\n",
      "C(year)[T.98]     -0.0075      0.005     -1.480      0.139      -0.018       0.002\n",
      "progresa           0.0075      0.004      1.691      0.091      -0.001       0.016\n",
      "treatment_post     0.0313      0.006      4.835      0.000       0.019       0.044\n",
      "==============================================================================\n",
      "Omnibus:                    15346.988   Durbin-Watson:                   1.397\n",
      "Prob(Omnibus):                  0.000   Jarque-Bera (JB):            30608.651\n",
      "Skew:                          -1.711   Prob(JB):                         0.00\n",
      "Kurtosis:                       3.937   Cond. No.                         7.67\n",
      "==============================================================================\n",
      "\n",
      "Notes:\n",
      "[1] Standard Errors assume that the covariance matrix of the errors is correctly specified.\n",
      "                            OLS Regression Results                            \n",
      "==============================================================================\n",
      "Dep. Variable:                     sc   R-squared:                       0.279\n",
      "Model:                            OLS   Adj. R-squared:                  0.279\n",
      "Method:                 Least Squares   F-statistic:                     2810.\n",
      "Date:                Mon, 05 Feb 2024   Prob (F-statistic):               0.00\n",
      "Time:                        23:37:03   Log-Likelihood:                -16717.\n",
      "No. Observations:               58165   AIC:                         3.345e+04\n",
      "Df Residuals:                   58156   BIC:                         3.353e+04\n",
      "Df Model:                           8                                         \n",
      "Covariance Type:            nonrobust                                         \n",
      "==================================================================================\n",
      "                     coef    std err          t      P>|t|      [0.025      0.975]\n",
      "----------------------------------------------------------------------------------\n",
      "Intercept          1.4940      0.006    231.606      0.000       1.481       1.507\n",
      "C(year)[T.98]      0.0270      0.004      6.204      0.000       0.018       0.036\n",
      "progresa           0.0043      0.004      1.137      0.256      -0.003       0.012\n",
      "treatment_post     0.0314      0.006      5.685      0.000       0.021       0.042\n",
      "age               -0.0655      0.000   -144.433      0.000      -0.066      -0.065\n",
      "dist_sec          -0.0110      0.001    -17.788      0.000      -0.012      -0.010\n",
      "sex                0.0339      0.003     12.672      0.000       0.029       0.039\n",
      "hohedu             0.0076      0.001     14.110      0.000       0.007       0.009\n",
      "indig              0.0496      0.003     17.304      0.000       0.044       0.055\n",
      "==============================================================================\n",
      "Omnibus:                     5523.777   Durbin-Watson:                   1.484\n",
      "Prob(Omnibus):                  0.000   Jarque-Bera (JB):             7269.312\n",
      "Skew:                          -0.864   Prob(JB):                         0.00\n",
      "Kurtosis:                       3.113   Cond. No.                         70.8\n",
      "==============================================================================\n",
      "\n",
      "Notes:\n",
      "[1] Standard Errors assume that the covariance matrix of the errors is correctly specified.\n"
     ]
    }
   ],
   "source": [
    "# Your code here\n",
    "import statsmodels.formula.api as smf\n",
    "data_2_6=data\n",
    "# (i)\n",
    "data_2_6['treatment_post'] = data_2_6['progresa']* (data_2_6['year'] == 98)\n",
    "## Define the model\n",
    "model_i = smf.ols('sc ~ progresa + C(year) + treatment_post', data=data_2_6[data_2_6['poor'] == 1]).fit()\n",
    "print(model_i.summary())\n",
    "\n",
    "# (ii)\n",
    "model_ii = smf.ols('sc ~ progresa + C(year) + treatment_post + age + dist_sec + sex + hohedu + indig', data=data_2_6[data_2_6['poor'] == 1]).fit()\n",
    "print(model_ii.summary())\n"
   ]
  },
  {
   "cell_type": "markdown",
   "metadata": {},
   "source": [
    "*Discuss your results here*  \n",
    "1. * The coefficient for progresa is 0.0075 with a standard error of 0.004. This suggests that, on its own, being in the Progresa program is associated with an increase in the likelihood of a child's enrollment in school by 0.75 percentage points. However, this effect is not statistically significant at conventional levels (p-value = 0.091), which means we do not have enough evidence to confidently say that Progresa has had an effect on school enrollment when not considering the time dimension.\n",
    "   *  The coefficient for treatment_post is 0.0313 with a standard error of 0.006. This is the DiD estimate and suggests that the Progresa program, after accounting for the time effect, is associated with an increase in school enrollment by 3.13 percentage points from 1997 to 1998 for poor households. This effect is statistically significant (p-value = 0.000), which indicates a strong and significant impact of the program when comparing the change over time between the treatment and control groups.\n",
    "2. *  The point estimate for the Progresa effect has decreased slightly from 0.0075 to 0.0043. This reduction implies that part of the effect captured by the progresa variable alone may be explained by other factors that are now included in the model. The Progresa coefficient is not statistically significant in either model. However, the p-value has increased from 0.091 to 0.256, indicating even less statistical evidence for a Progresa effect when controlling for other variables.\n",
    "   *  The inclusion of control variables, which show significant associations with enrollment, implies that these factors (like age, distance to school, gender, household head's education, and indigenous status) are important in determining school enrollment. They may overshadow the isolated impact of the Progresa program.\n",
    "3. * After considering the control variables, the coefficient of progresa decreased from 0.0354 to 0.0314, but remains positive. The initial model without control variables might have over-estimated the effect of Progresa if it failed to account for other important factors that influence enrollment. It suggestes that we have to include all relevant variables that explain the outcome.\n",
    "4. * The counterfactual assumption in regression model ii is that, in the absence of Progresa, the relationship between the control variables (age, distance to school, sex, household head's education, etc.) and the likelihood of school enrollment would be the same for the treatment group as for the control group. That means, including the control variables, the differences in enrollment rates betweem the Progresa and non-Progresa groups can be attributed to the Progresa program itself."
   ]
  },
  {
   "cell_type": "markdown",
   "metadata": {},
   "source": [
    "### 2.7 Spillover effects\n",
    "\n",
    "Thus far, we have focused on the impact of PROGRESA on the school enrollment of poor households. Repeat your analysis in 2.5, instead focusing on (a) the impact of PROGRESA on the school enrollment of non-poor households, and (b) the impact ofo PROGRESA on *other outcomes* of poor households that might plausibly have been affected by the PROGRESA program.\n",
    "* Do you observe any impacts of PROGRESA on the school enrollment of the non-poor?\n",
    "* Regardless of whether you find evidence of spillovers to non-poor, describe one or two reasons why PROGRESA *might* have impacted non-poor households. Give concrete examples based on the context in which PROGRESA was implemented.\n",
    "* Do you observe any impacts of PROGRESA on other aspects of the welfare of poor households? "
   ]
  },
  {
   "cell_type": "code",
   "execution_count": 13,
   "metadata": {},
   "outputs": [
    {
     "name": "stdout",
     "output_type": "stream",
     "text": [
      "year            97        98\n",
      "progresa                    \n",
      "0         0.762587  0.776337\n",
      "1         0.795264  0.809049\n",
      "DiD_a is:  3.4275264633842895e-05\n",
      "year            97        98\n",
      "progresa                    \n",
      "0         3.543050  4.130410\n",
      "1         3.531599  4.140968\n",
      "DiD_b is:  0.022008154356015552\n"
     ]
    }
   ],
   "source": [
    "# Your code here\n",
    "# (a)\n",
    "data_2_7 = data[data.poor == 0]\n",
    "avg_enroll_a = data_2_7.groupby(['progresa', 'year'])['sc'].mean().unstack()\n",
    "print(avg_enroll_a)\n",
    "DiD_a = (avg_enroll_a.loc[1, 98] - avg_enroll_a.loc[1, 97]) - (avg_enroll_a.loc[0, 98] - avg_enroll_a.loc[0, 97])\n",
    "print(\"DiD_a is: \", DiD_a)\n",
    "# (b)\n",
    "# I chose grc that may be affected by the PROGRESA program.\n",
    "data_2_7_b = data[data.poor == 1]\n",
    "avg_enroll_b = data_2_7_b.groupby(['progresa', 'year'])['grc'].mean().unstack()\n",
    "print(avg_enroll_b)\n",
    "DiD_b = (avg_enroll_b.loc[1, 98] - avg_enroll_b.loc[1, 97]) - (avg_enroll_b.loc[0, 98] - avg_enroll_b.loc[0, 97])\n",
    "print(\"DiD_b is: \", DiD_b)"
   ]
  },
  {
   "cell_type": "markdown",
   "metadata": {},
   "source": [
    "*Discuss your results here*\n",
    "* I haven't noticed any impacts of PROGRESA on the school enrollment of the non-poor according to the $DiD_a = 3.4275264633842895e-05$.\n",
    "* The first reason I think is that poor families may use these transfer payments to purchase local goods and services, thereby increasing the income of shops and businesses owned by non poor families.\n",
    "* The second reason is that since the PROGRESA encourage community participation, like health education sessions, it might strengthen networks of support and information exchangee across socio-economic boundaries, which cna lead to shared benefits, such as improved safety and cooperative community projects that enhance the local environment or infrastructure, indirectly benefiting non-poor households as well.\n",
    "* I choose the 'grc' index. According to the $DiD_b = 0.022$, it indicates s a positive effect of PROGRESA on advancing grade levels beyond the natural improvement. "
   ]
  },
  {
   "cell_type": "markdown",
   "metadata": {},
   "source": [
    "### 2.8 Summary\n",
    "\n",
    "* Based on all the analysis you have undertaken to date, do you believe that Progresa had a causal impact on the enrollment rates of poor households in Mexico? "
   ]
  },
  {
   "cell_type": "markdown",
   "metadata": {},
   "source": [
    "*Discuss your results here*   \n",
    "\n",
    "I think I could believe because multiple analyses with different control variables and methods consistently show that Progresa is associated with increased enrollment. But we still need further analysis on the dataset. It's the consistency and replication of the findings that give us a reasonable basis to infer a causal relationship, especially when alternative explanations have been rigorously tested and ruled out."
   ]
  }
 ],
 "metadata": {
  "anaconda-cloud": {},
  "jupytext": {
   "formats": "ipynb,py:light"
  },
  "kernelspec": {
   "display_name": "Python [conda env:datasci]",
   "language": "python",
   "name": "conda-env-datasci-py"
  },
  "language_info": {
   "codemirror_mode": {
    "name": "ipython",
    "version": 3
   },
   "file_extension": ".py",
   "mimetype": "text/x-python",
   "name": "python",
   "nbconvert_exporter": "python",
   "pygments_lexer": "ipython3",
   "version": "3.8.18"
  }
 },
 "nbformat": 4,
 "nbformat_minor": 4
}
